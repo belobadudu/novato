{
 "cells": [
  {
   "cell_type": "code",
   "execution_count": 17,
   "id": "dafb0636",
   "metadata": {},
   "outputs": [],
   "source": [
    "# 1-entrar na planilha e extrair o cpf do cliente\n",
    "#uso o cpf da planilha pra verificar\n",
    "\n",
    "#6-inserir essas informações (nome,valor,cpf,vencimemto,status e caso esteja em dia,data\n",
    "#pagamento,método pagamento(cartao ou boleto))em uma nova planilha.\n",
    "#7- repetir até chegar no ultimo cliente"
   ]
  },
  {
   "cell_type": "code",
   "execution_count": 1,
   "id": "77da3f37",
   "metadata": {},
   "outputs": [
    {
     "name": "stdout",
     "output_type": "stream",
     "text": [
      "Requirement already satisfied: openpyxl in c:\\users\\duduc\\appdata\\local\\programs\\python\\python313\\lib\\site-packages (3.1.5)\n",
      "Requirement already satisfied: selenium in c:\\users\\duduc\\appdata\\local\\programs\\python\\python313\\lib\\site-packages (4.31.0)\n",
      "Requirement already satisfied: et-xmlfile in c:\\users\\duduc\\appdata\\local\\programs\\python\\python313\\lib\\site-packages (from openpyxl) (2.0.0)\n",
      "Requirement already satisfied: urllib3<3,>=1.26 in c:\\users\\duduc\\appdata\\local\\programs\\python\\python313\\lib\\site-packages (from urllib3[socks]<3,>=1.26->selenium) (2.4.0)\n",
      "Requirement already satisfied: trio~=0.17 in c:\\users\\duduc\\appdata\\local\\programs\\python\\python313\\lib\\site-packages (from selenium) (0.30.0)\n",
      "Requirement already satisfied: trio-websocket~=0.9 in c:\\users\\duduc\\appdata\\local\\programs\\python\\python313\\lib\\site-packages (from selenium) (0.12.2)\n",
      "Requirement already satisfied: certifi>=2021.10.8 in c:\\users\\duduc\\appdata\\local\\programs\\python\\python313\\lib\\site-packages (from selenium) (2025.1.31)\n",
      "Requirement already satisfied: typing_extensions~=4.9 in c:\\users\\duduc\\appdata\\local\\programs\\python\\python313\\lib\\site-packages (from selenium) (4.13.2)\n",
      "Requirement already satisfied: websocket-client~=1.8 in c:\\users\\duduc\\appdata\\local\\programs\\python\\python313\\lib\\site-packages (from selenium) (1.8.0)\n",
      "Requirement already satisfied: attrs>=23.2.0 in c:\\users\\duduc\\appdata\\local\\programs\\python\\python313\\lib\\site-packages (from trio~=0.17->selenium) (25.3.0)\n",
      "Requirement already satisfied: sortedcontainers in c:\\users\\duduc\\appdata\\local\\programs\\python\\python313\\lib\\site-packages (from trio~=0.17->selenium) (2.4.0)\n",
      "Requirement already satisfied: idna in c:\\users\\duduc\\appdata\\local\\programs\\python\\python313\\lib\\site-packages (from trio~=0.17->selenium) (3.10)\n",
      "Requirement already satisfied: outcome in c:\\users\\duduc\\appdata\\local\\programs\\python\\python313\\lib\\site-packages (from trio~=0.17->selenium) (1.3.0.post0)\n",
      "Requirement already satisfied: sniffio>=1.3.0 in c:\\users\\duduc\\appdata\\local\\programs\\python\\python313\\lib\\site-packages (from trio~=0.17->selenium) (1.3.1)\n",
      "Requirement already satisfied: cffi>=1.14 in c:\\users\\duduc\\appdata\\local\\programs\\python\\python313\\lib\\site-packages (from trio~=0.17->selenium) (1.17.1)\n",
      "Requirement already satisfied: wsproto>=0.14 in c:\\users\\duduc\\appdata\\local\\programs\\python\\python313\\lib\\site-packages (from trio-websocket~=0.9->selenium) (1.2.0)\n",
      "Requirement already satisfied: pysocks!=1.5.7,<2.0,>=1.5.6 in c:\\users\\duduc\\appdata\\local\\programs\\python\\python313\\lib\\site-packages (from urllib3[socks]<3,>=1.26->selenium) (1.7.1)\n",
      "Requirement already satisfied: pycparser in c:\\users\\duduc\\appdata\\local\\programs\\python\\python313\\lib\\site-packages (from cffi>=1.14->trio~=0.17->selenium) (2.22)\n",
      "Requirement already satisfied: h11<1,>=0.9.0 in c:\\users\\duduc\\appdata\\local\\programs\\python\\python313\\lib\\site-packages (from wsproto>=0.14->trio-websocket~=0.9->selenium) (0.16.0)\n",
      "Note: you may need to restart the kernel to use updated packages.\n"
     ]
    },
    {
     "name": "stderr",
     "output_type": "stream",
     "text": [
      "\n",
      "[notice] A new release of pip is available: 25.0.1 -> 25.1\n",
      "[notice] To update, run: python.exe -m pip install --upgrade pip\n"
     ]
    }
   ],
   "source": [
    "%pip install openpyxl selenium"
   ]
  },
  {
   "cell_type": "code",
   "execution_count": 2,
   "id": "a9ddb644",
   "metadata": {},
   "outputs": [],
   "source": [
    "import openpyxl\n",
    "from openpyxl import workbook\n",
    "from openpyxl import load_workbook\n",
    "from selenium import webdriver\n",
    "from selenium.webdriver.common.by import By\n",
    "from time import sleep"
   ]
  },
  {
   "cell_type": "code",
   "execution_count": null,
   "id": "ac8ab13a",
   "metadata": {},
   "outputs": [
    {
     "ename": "KeyboardInterrupt",
     "evalue": "",
     "output_type": "error",
     "traceback": [
      "\u001b[31m---------------------------------------------------------------------------\u001b[39m",
      "\u001b[31mKeyboardInterrupt\u001b[39m                         Traceback (most recent call last)",
      "\u001b[36mCell\u001b[39m\u001b[36m \u001b[39m\u001b[32mIn[3]\u001b[39m\u001b[32m, line 25\u001b[39m\n\u001b[32m     23\u001b[39m sleep(\u001b[32m1\u001b[39m)\n\u001b[32m     24\u001b[39m botao_pesquisar.click()\n\u001b[32m---> \u001b[39m\u001b[32m25\u001b[39m \u001b[43msleep\u001b[49m\u001b[43m(\u001b[49m\u001b[32;43m5\u001b[39;49m\u001b[43m)\u001b[49m\n\u001b[32m     27\u001b[39m status = driver.find_element(By.XPATH,\u001b[33m\"\u001b[39m\u001b[33m//span[@id=\u001b[39m\u001b[33m'\u001b[39m\u001b[33mstatusLabel\u001b[39m\u001b[33m'\u001b[39m\u001b[33m]\u001b[39m\u001b[33m\"\u001b[39m)\n\u001b[32m     28\u001b[39m \u001b[38;5;28;01mif\u001b[39;00m status.text == \u001b[33m'\u001b[39m\u001b[33mEm dia\u001b[39m\u001b[33m'\u001b[39m:\n\u001b[32m     29\u001b[39m     \u001b[38;5;66;03m#4-se estiver em dia pegar a data do pagamento e o método\u001b[39;00m\n",
      "\u001b[31mKeyboardInterrupt\u001b[39m: "
     ]
    }
   ],
   "source": [
    "# entrar na planilha e extrair o cpf do cliente\n",
    "planilha_clientes = openpyxl.load_workbook('dados_clientes.xlsx')\n",
    "pagina_clientes = planilha_clientes['Sheet1']\n",
    "\n",
    "#2-entro no site https://consultcpf-devaprender.netlify.app/\n",
    "driver = webdriver.Chrome()\n",
    "driver.get('https://consultcpf-devaprender.netlify.app/')\n",
    "\n",
    "\n",
    "\n",
    "for linha in pagina_clientes.iter_rows(min_row=2,values_only=True):\n",
    "    Nome, Valor , CPF, Vencimento = linha\n",
    "    sleep(5)\n",
    "    campo_pesquisa = driver.find_element(By.XPATH,\"//input[@id='cpfInput']\") \n",
    "    sleep(1)\n",
    "    campo_pesquisa.clear()\n",
    "    campo_pesquisa.send_keys(CPF)\n",
    "    sleep(1)\n",
    "    \n",
    "    #3-verificar se esta em \"dia\" ou \"atrasado\"\n",
    "\n",
    "    botao_pesquisar = driver.find_element(By.XPATH,\"//button[@class='btn btn-custom btn-lg btn-block mt-3']\")\n",
    "    sleep(1)\n",
    "    botao_pesquisar.click()\n",
    "    sleep(5)\n",
    "    \n",
    "    status = driver.find_element(By.XPATH,\"//span[@id='statusLabel']\")\n",
    "    if status.text == 'Em dia':\n",
    "        #4-se estiver em dia pegar a data do pagamento e o método\n",
    "        data_pagamento = driver.find_element(By.XPATH,\"//p[@id='paymentDate']\")\n",
    "        metodo_pagamento = driver.find_element(By.XPATH,\"//p[@id='paymentMethod']\")\n",
    "        \n",
    "        data_pagamento_limpo = data_pagamento.text.split()[3]\n",
    "        metodo_pagamento_limpo = metodo_pagamento.text.split()[3]\n",
    "        \n",
    "        planilha_fechamento = openpyxl.load_workbook('planilha fechamento.xlsx')\n",
    "        pagina_fechamento = planilha_fechamento['Sheet1']\n",
    "        \n",
    "        pagina_fechamento.append([Nome, Valor, CPF, Vencimento, 'Em dia',data_pagamento_limpo, metodo_pagamento_limpo])\n",
    "        planilha_fechamento.save('planilha fechamento.xlsx')\n",
    "    else:\n",
    "        #5-caso contrario(se estiver atrasado),colocar status pendente \n",
    "        planilha_fechamento = openpyxl.load_workbook('planilha fechamento.xlsx')\n",
    "        pagina_fechamento = planilha_fechamento['Sheet1']\n",
    "        \n",
    "        pagina_fechamento.append([Nome, Valor, CPF, Vencimento, 'Pendente'])\n",
    "        planilha_fechamento.save('planilha fechamento.xlsx')\n",
    "        #6- repetir até chegar no ultimo cliente\n",
    "        \n",
    "        \n",
    "    \n",
    "    \n",
    "    \n",
    "        \n",
    "\n",
    "\n"
   ]
  }
 ],
 "metadata": {
  "kernelspec": {
   "display_name": "Python 3",
   "language": "python",
   "name": "python3"
  },
  "language_info": {
   "codemirror_mode": {
    "name": "ipython",
    "version": 3
   },
   "file_extension": ".py",
   "mimetype": "text/x-python",
   "name": "python",
   "nbconvert_exporter": "python",
   "pygments_lexer": "ipython3",
   "version": "3.13.3"
  }
 },
 "nbformat": 4,
 "nbformat_minor": 5
}
